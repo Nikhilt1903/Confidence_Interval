{
 "cells": [
  {
   "cell_type": "markdown",
   "id": "77dbf043",
   "metadata": {},
   "source": [
    "# a. Build 99% Confidence Interval Using Sample Standard Deviation"
   ]
  },
  {
   "cell_type": "code",
   "execution_count": 1,
   "id": "bc7497aa",
   "metadata": {},
   "outputs": [],
   "source": [
    "import numpy as np\n",
    "data=[1.13, 1.55, 1.43, 0.92, 1.25, 1.36, 1.32, 0.85, 1.07, 1.48, 1.20, 1.33, 1.18, 1.22, 1.29]"
   ]
  },
  {
   "cell_type": "code",
   "execution_count": 4,
   "id": "0db9164b",
   "metadata": {},
   "outputs": [
    {
     "data": {
      "text/plain": [
       "15"
      ]
     },
     "execution_count": 4,
     "metadata": {},
     "output_type": "execute_result"
    }
   ],
   "source": [
    "n=len(data)#sample size\n",
    "n"
   ]
  },
  {
   "cell_type": "code",
   "execution_count": 5,
   "id": "76aa793f",
   "metadata": {},
   "outputs": [
    {
     "data": {
      "text/plain": [
       "1.2386666666666666"
      ]
     },
     "execution_count": 5,
     "metadata": {},
     "output_type": "execute_result"
    }
   ],
   "source": [
    "mean=np.mean(data)#calculating the mean of data\n",
    "mean"
   ]
  },
  {
   "cell_type": "code",
   "execution_count": 8,
   "id": "d1d3d2d3",
   "metadata": {},
   "outputs": [
    {
     "data": {
      "text/plain": [
       "0.19316412956959936"
      ]
     },
     "execution_count": 8,
     "metadata": {},
     "output_type": "execute_result"
    }
   ],
   "source": [
    "std=np.std(data,ddof=1)#calculating the standard deviation.of data ddof=1 as we are caluculating of sample data\n",
    "std"
   ]
  },
  {
   "cell_type": "code",
   "execution_count": 11,
   "id": "da8aa59e",
   "metadata": {},
   "outputs": [
    {
     "data": {
      "text/plain": [
       "2.97684273411266"
      ]
     },
     "execution_count": 11,
     "metadata": {},
     "output_type": "execute_result"
    }
   ],
   "source": [
    "#here we are using t_critical value to find the confidence_interval as the sample size is very less\n",
    "from scipy import stats\n",
    "t_critical=stats.t.ppf(0.995,df=n-1)\n",
    "t_critical"
   ]
  },
  {
   "cell_type": "code",
   "execution_count": 12,
   "id": "8002f890",
   "metadata": {},
   "outputs": [
    {
     "data": {
      "text/plain": [
       "0.1484693282152996"
      ]
     },
     "execution_count": 12,
     "metadata": {},
     "output_type": "execute_result"
    }
   ],
   "source": [
    "#calculating the margin of error\n",
    "error=t_critical*(std/np.sqrt(n))\n",
    "error"
   ]
  },
  {
   "cell_type": "code",
   "execution_count": 15,
   "id": "2bc70cff",
   "metadata": {},
   "outputs": [
    {
     "name": "stdout",
     "output_type": "stream",
     "text": [
      "The 99% confidence interval for the given data is :1.090197338451367,1.3871359948819662\n"
     ]
    }
   ],
   "source": [
    "#calclating the conf interval\n",
    "lower=mean-error\n",
    "upper=mean+error\n",
    "print(f\"The 99% confidence interval for the given data is :{lower},{upper}\")"
   ]
  },
  {
   "cell_type": "code",
   "execution_count": 16,
   "id": "e858fde1",
   "metadata": {},
   "outputs": [
    {
     "name": "stdout",
     "output_type": "stream",
     "text": [
      "The 99% confidence interval for the given data is :1.090,1.387\n"
     ]
    }
   ],
   "source": [
    "print(f\"The 99% confidence interval for the given data is :{lower:.3f},{upper:.3f}\")"
   ]
  },
  {
   "cell_type": "code",
   "execution_count": 17,
   "id": "99b0f5a3",
   "metadata": {},
   "outputs": [],
   "source": [
    "#from the above we can infer that the company is 99% confident that the average durability of the print \n",
    "#lies between 1.09 to 1.387 million characters."
   ]
  },
  {
   "cell_type": "markdown",
   "id": "5d9f6d14",
   "metadata": {},
   "source": [
    "# b. Build 99% Confidence Interval Using Known Population Standard Deviation\n",
    "\n"
   ]
  },
  {
   "cell_type": "code",
   "execution_count": 19,
   "id": "4fbb0b55",
   "metadata": {},
   "outputs": [],
   "source": [
    "#calcluting the confidence interval for the above dataset with known std valu\n",
    "std=0.2#given in dataset\n",
    "n= len(data)\n",
    "mean=np.mean(data)"
   ]
  },
  {
   "cell_type": "code",
   "execution_count": 20,
   "id": "96d03645",
   "metadata": {},
   "outputs": [
    {
     "data": {
      "text/plain": [
       "2.5758293035489004"
      ]
     },
     "execution_count": 20,
     "metadata": {},
     "output_type": "execute_result"
    }
   ],
   "source": [
    "#we are using z_critcal here as we know the value of std\n",
    "z_critical=stats.norm.ppf(0.995)\n",
    "z_critical"
   ]
  },
  {
   "cell_type": "code",
   "execution_count": 21,
   "id": "e964f2f5",
   "metadata": {},
   "outputs": [
    {
     "data": {
      "text/plain": [
       "0.1484693282152996"
      ]
     },
     "execution_count": 21,
     "metadata": {},
     "output_type": "execute_result"
    }
   ],
   "source": [
    "error_margin=z_critical*(std/np.sqrt(n))\n",
    "error"
   ]
  },
  {
   "cell_type": "code",
   "execution_count": 24,
   "id": "a81860a4",
   "metadata": {},
   "outputs": [
    {
     "name": "stdout",
     "output_type": "stream",
     "text": [
      "The 99% confidence interval for the given data is with known std is :1.106,1.372\n"
     ]
    }
   ],
   "source": [
    "lower1=mean-error_margin\n",
    "upper1=mean+error_margin\n",
    "print(f\"The 99% confidence interval for the given data is with known std is :{lower1:.3f},{upper1:.3f}\")"
   ]
  },
  {
   "cell_type": "code",
   "execution_count": 23,
   "id": "025f9cef",
   "metadata": {},
   "outputs": [],
   "source": [
    "#from the above we can infer that the company is 99% confident that the average durability of the print \n",
    "#lies between 1.106 to 1.372? million characters from the known std value"
   ]
  },
  {
   "cell_type": "code",
   "execution_count": null,
   "id": "fb9570a3",
   "metadata": {},
   "outputs": [],
   "source": []
  }
 ],
 "metadata": {
  "kernelspec": {
   "display_name": "Python 3 (ipykernel)",
   "language": "python",
   "name": "python3"
  },
  "language_info": {
   "codemirror_mode": {
    "name": "ipython",
    "version": 3
   },
   "file_extension": ".py",
   "mimetype": "text/x-python",
   "name": "python",
   "nbconvert_exporter": "python",
   "pygments_lexer": "ipython3",
   "version": "3.9.13"
  }
 },
 "nbformat": 4,
 "nbformat_minor": 5
}
